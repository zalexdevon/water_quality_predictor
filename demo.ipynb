{
 "cells": [
  {
   "cell_type": "markdown",
   "id": "ffb40e9f",
   "metadata": {},
   "source": [
    "## Ý nghĩa các cột\n",
    "\n",
    "| Cot                       | Y nghia                                                               |  Phan loai |\n",
    "| ------------------------- | --------------------------------------------------------------------- | --------- |\n",
    "| Age                |                                  |  num   |\n",
    "| Gender                |                                  |  nom   |\n",
    "| Cholesterol                |  nồng độ Cholesterol trong máu                            |  num   |\n",
    "| BloodPressure                | huyết áp                           |  num   |\n",
    "| HeartRate                | nhịp tim                        |  num   |\n",
    "| BMI                | chỉ số cân nặng                    |  num   |\n",
    "| Smoker                | có hút thuốc không                  |  bin   |\n",
    "| Diabetes                | có bị tiểu đường không              |  bin   |\n",
    "| Hypertension                | có bị tăng huyết áp  không              |  bin   |\n",
    "| FamilyHistory                | có tiền sử gia đình  không              |  bin   |\n",
    "| PhysicalActivity                | mức độ tập thể dục            |  numcat   |\n",
    "| AlcoholConsumption                | mức độ tiêu thụ rượu            |  numcat   |\n",
    "| Diet                | chất lượng bữa ăn (['Unhealthy','Moderate' 'Healthy'])         |  ord   |\n",
    "| StressLevel                | mức độ căng thẳng       |  numcat   |\n",
    "| Income               | thu nhập   |  num   |\n",
    "| EducationLevel               | trình độ học vấn (['High School', 'College', 'Postgraduate'])  |  ord   |\n",
    "| Medication               | có chữa trị trước đây chưa  |  bin   |\n",
    "| ChestPainType               | loại đau ngực |  nom   |\n",
    "| ECGResults               | kết quả điện tâm đồ |  nom   |\n",
    "| MaxHeartRate               | nhịp tim lớn nhất |  num   |\n",
    "| ST_Depression               | mức độ bất thường trong điện tâm đồ |  num   |\n",
    "| ExerciseInducedAngina               | đau thắt ngực có do tập thể dục gây ra không |  bin   |\n",
    "| Slope               |  |  nom   |\n",
    "| NumberOfMajorVessels               | số lượng của động mạch chính  |  numcat | \n",
    "| Thalassemia               | một nhóm các bệnh di truyền về máu  |  nom | \n",
    "| PreviousHeartAttack               | có bị heart attack trước đây chưa  |  bin | \n",
    "| StrokeHistory               | có tiền sử bị đột quy không |  bin | \n",
    "| Residence               | nơi sống |  nom | \n",
    "| Outcome     | có bị đau ngực không  |  target | "
   ]
  },
  {
   "cell_type": "code",
   "execution_count": 1,
   "id": "fb6cd4ca",
   "metadata": {},
   "outputs": [
    {
     "data": {
      "text/plain": [
       "0.072"
      ]
     },
     "execution_count": 1,
     "metadata": {},
     "output_type": "execute_result"
    }
   ],
   "source": [
    "0.8 * 0.6 * 0.15"
   ]
  },
  {
   "cell_type": "code",
   "execution_count": 2,
   "id": "3c908bad",
   "metadata": {},
   "outputs": [
    {
     "data": {
      "text/html": [
       "<div>\n",
       "<style scoped>\n",
       "    .dataframe tbody tr th:only-of-type {\n",
       "        vertical-align: middle;\n",
       "    }\n",
       "\n",
       "    .dataframe tbody tr th {\n",
       "        vertical-align: top;\n",
       "    }\n",
       "\n",
       "    .dataframe thead th {\n",
       "        text-align: right;\n",
       "    }\n",
       "</style>\n",
       "<table border=\"1\" class=\"dataframe\">\n",
       "  <thead>\n",
       "    <tr style=\"text-align: right;\">\n",
       "      <th></th>\n",
       "      <th>a</th>\n",
       "      <th>b</th>\n",
       "      <th>c</th>\n",
       "      <th>d</th>\n",
       "    </tr>\n",
       "  </thead>\n",
       "  <tbody>\n",
       "    <tr>\n",
       "      <th>a</th>\n",
       "      <td>1</td>\n",
       "      <td>0</td>\n",
       "      <td>0</td>\n",
       "      <td>0</td>\n",
       "    </tr>\n",
       "    <tr>\n",
       "      <th>b</th>\n",
       "      <td>5</td>\n",
       "      <td>6</td>\n",
       "      <td>0</td>\n",
       "      <td>0</td>\n",
       "    </tr>\n",
       "    <tr>\n",
       "      <th>c</th>\n",
       "      <td>9</td>\n",
       "      <td>10</td>\n",
       "      <td>11</td>\n",
       "      <td>0</td>\n",
       "    </tr>\n",
       "    <tr>\n",
       "      <th>d</th>\n",
       "      <td>13</td>\n",
       "      <td>14</td>\n",
       "      <td>15</td>\n",
       "      <td>16</td>\n",
       "    </tr>\n",
       "  </tbody>\n",
       "</table>\n",
       "</div>"
      ],
      "text/plain": [
       "    a   b   c   d\n",
       "a   1   0   0   0\n",
       "b   5   6   0   0\n",
       "c   9  10  11   0\n",
       "d  13  14  15  16"
      ]
     },
     "execution_count": 2,
     "metadata": {},
     "output_type": "execute_result"
    }
   ],
   "source": [
    "import numpy as np\n",
    "import pandas as pd \n",
    "\n",
    "# Tạo ma trận mẫu (ví dụ: ma trận 4x4)\n",
    "matrix = np.array([[1, 2, 3, 4],\n",
    "                   [5, 6, 7, 8],\n",
    "                   [9, 10, 11, 12],\n",
    "                   [13, 14, 15, 16]])\n",
    "\n",
    "# Biến ma trận thành tam giác dưới bằng cách đặt giá trị phía trên đường chéo thành 0\n",
    "triangle_lower = np.tril(matrix)\n",
    "\n",
    "a = ['a', 'b', 'c', 'd']\n",
    "df = pd.DataFrame(triangle_lower, columns=a, index=a)\n",
    "\n",
    "df"
   ]
  },
  {
   "cell_type": "markdown",
   "id": "eda5dff6",
   "metadata": {},
   "source": [
    "Index(['Age_num', 'Cholesterol_num', 'BloodPressure_num', 'HeartRate_num',\n",
    "       'BMI_num', 'Income_num', 'MaxHeartRate_num', 'ST_Depression_num',\n",
    "       'PhysicalActivity_numcat', 'AlcoholConsumption_numcat',\n",
    "       'StressLevel_numcat', 'NumberOfMajorVessels_numcat', 'Smoker_bin',\n",
    "       'Diabetes_bin', 'Hypertension_bin', 'FamilyHistory_bin',\n",
    "       'Medication_bin', 'ExerciseInducedAngina_bin',\n",
    "       'PreviousHeartAttack_bin', 'StrokeHistory_bin', 'Gender_nom',\n",
    "       'ChestPainType_nom', 'ECGResults_nom', 'Slope_nom', 'Thalassemia_nom',\n",
    "       'Residence_nom', 'Diet_ord', 'EducationLevel_ord', 'Outcome_target'],\n",
    "      dtype='object')"
   ]
  },
  {
   "cell_type": "markdown",
   "id": "8b7e5b73",
   "metadata": {},
   "source": [
    "cột Age_num đều \n",
    "\n",
    "cột Cholesterol_num đều \n",
    "\n",
    "cột BloodPressure_num đều \n",
    "\n",
    "cột HeartRate_num đều \n",
    "\n",
    "cột BMI_num đều \n",
    "\n",
    "cột Income_num đều \n",
    "\n",
    "cột MaxHeartRate_num đều \n",
    "\n",
    "cột ST_Depression_num đều \n",
    "\n"
   ]
  },
  {
   "cell_type": "code",
   "execution_count": null,
   "id": "f82d6671",
   "metadata": {},
   "outputs": [
    {
     "name": "stdout",
     "output_type": "stream",
     "text": [
      "[('a', 'b'), ('a', 'c'), ('a', 'd'), ('b', 'c'), ('b', 'd'), ('c', 'd')]\n"
     ]
    }
   ],
   "source": [
    "from sklearn.feature_selection import SelectKBest, mutual_info_regression, mutual_info_classif\n",
    "\n",
    "# Khởi tạo selector\n",
    "selector = SelectKBest(score_func=mutual_info_classif, k=\"all\") # Classification\n",
    "\n",
    "# Fit cái đã\n",
    "selector.fit(\n",
    "    transformed_features, # features phải được transformed trước \n",
    "    target\n",
    ")\n",
    "\n",
    "\n",
    "# Ghi lại kết quả điểm số\n",
    "feature_scores = pd.DataFrame(\n",
    "    {\"Feature\": transformed_features.columns, \"Score\": selector.scores_}\n",
    ").sort_values(by=\"Score\", ascending=False)\n"
   ]
  },
  {
   "cell_type": "code",
   "execution_count": null,
   "id": "5651b22b",
   "metadata": {},
   "outputs": [
    {
     "name": "stdout",
     "output_type": "stream",
     "text": [
      "Accuracy: 1.0000\n"
     ]
    }
   ],
   "source": [
    "from sklearn.ensemble import StackingClassifier\n",
    "from sklearn.linear_model import LogisticRegression\n",
    "from sklearn.tree import DecisionTreeClassifier\n",
    "from sklearn.svm import SVC\n",
    "from sklearn.datasets import load_iris\n",
    "from sklearn.model_selection import train_test_split\n",
    "from sklearn.metrics import accuracy_score\n",
    "\n",
    "\n",
    "# Các mô hình cơ bản (base learners)\n",
    "base_learners = [\n",
    "    ('decision_tree', DecisionTreeClassifier(max_depth=3)),\n",
    "    ('svm', SVC(kernel='linear', probability=True))\n",
    "]\n",
    "\n",
    "# Mô hình học kết hợp (meta-learner)\n",
    "meta_learner = LogisticRegression()\n",
    "\n",
    "# Khởi tạo StackingClassifier\n",
    "stacking_model = StackingClassifier(estimators=base_learners, final_estimator=meta_learner, cv=5)\n",
    "\n",
    "# Tải dữ liệu mẫu\n",
    "data = load_iris()\n",
    "X = data.data\n",
    "y = data.target\n",
    "\n",
    "# Chia tập dữ liệu\n",
    "X_train, X_test, y_train, y_test = train_test_split(X, y, test_size=0.2, random_state=42)\n",
    "\n",
    "# Huấn luyện mô hình\n",
    "stacking_model.fit(X_train, y_train)\n",
    "\n",
    "# Dự đoán trên tập kiểm tra\n",
    "y_pred = stacking_model.predict(X_test)\n",
    "\n",
    "# Tính độ chính xác\n",
    "accuracy = accuracy_score(y_test, y_pred)\n",
    "print(f\"Accuracy: {accuracy:.4f}\")\n"
   ]
  },
  {
   "cell_type": "code",
   "execution_count": null,
   "id": "cf819713",
   "metadata": {},
   "outputs": [],
   "source": [
    "from lightgbm import LGBMClassifier\n",
    "from sklearn.model_selection import train_test_split\n",
    "\n",
    "# Giả sử X, y đã có\n",
    "X1, X2, y1, y2 = train_test_split(X, y, test_size=0.5)\n",
    "\n",
    "# Train lần đầu\n",
    "model = LGBMClassifier(n_estimators=50, learning_rate=0.1, max_depth=3)\n",
    "model.fit(X1, y1)\n",
    "\n",
    "# Train tiếp trên X2, y2, giữ nguyên tham số\n",
    "model.fit(X2, y2, init_model=model.booster_)\n"
   ]
  },
  {
   "cell_type": "code",
   "execution_count": 5,
   "id": "badb9491",
   "metadata": {},
   "outputs": [],
   "source": [
    "from sklearn.decomposition import KernelPCA\n",
    "\n",
    "model = KernelPCA(n_components=0.9)"
   ]
  },
  {
   "cell_type": "code",
   "execution_count": 1,
   "id": "07b5ec5b",
   "metadata": {},
   "outputs": [
    {
     "name": "stdout",
     "output_type": "stream",
     "text": [
      "[LightGBM] [Info] Number of positive: 250, number of negative: 250\n",
      "[LightGBM] [Info] Auto-choosing row-wise multi-threading, the overhead of testing was 0.001386 seconds.\n",
      "You can set `force_row_wise=true` to remove the overhead.\n",
      "And if memory is not enough, you can set `force_col_wise=true`.\n",
      "[LightGBM] [Info] Total Bins 3340\n",
      "[LightGBM] [Info] Number of data points in the train set: 500, number of used features: 20\n",
      "[LightGBM] [Info] [binary:BoostFromScore]: pavg=0.500000 -> initscore=0.000000\n",
      "[LightGBM] [Warning] No further splits with positive gain, best gain: -inf\n",
      "[LightGBM] [Warning] No further splits with positive gain, best gain: -inf\n",
      "[LightGBM] [Warning] No further splits with positive gain, best gain: -inf\n",
      "[LightGBM] [Warning] No further splits with positive gain, best gain: -inf\n",
      "[LightGBM] [Warning] No further splits with positive gain, best gain: -inf\n",
      "[LightGBM] [Warning] No further splits with positive gain, best gain: -inf\n",
      "[LightGBM] [Warning] No further splits with positive gain, best gain: -inf\n",
      "[LightGBM] [Warning] No further splits with positive gain, best gain: -inf\n",
      "[LightGBM] [Warning] No further splits with positive gain, best gain: -inf\n",
      "[LightGBM] [Warning] No further splits with positive gain, best gain: -inf\n",
      "[LightGBM] [Warning] No further splits with positive gain, best gain: -inf\n",
      "[LightGBM] [Warning] No further splits with positive gain, best gain: -inf\n",
      "[LightGBM] [Warning] No further splits with positive gain, best gain: -inf\n",
      "[LightGBM] [Warning] No further splits with positive gain, best gain: -inf\n",
      "[LightGBM] [Warning] No further splits with positive gain, best gain: -inf\n",
      "[LightGBM] [Warning] No further splits with positive gain, best gain: -inf\n",
      "[LightGBM] [Warning] No further splits with positive gain, best gain: -inf\n",
      "[LightGBM] [Warning] No further splits with positive gain, best gain: -inf\n",
      "[LightGBM] [Warning] No further splits with positive gain, best gain: -inf\n",
      "[LightGBM] [Warning] No further splits with positive gain, best gain: -inf\n",
      "[LightGBM] [Warning] No further splits with positive gain, best gain: -inf\n",
      "[LightGBM] [Warning] No further splits with positive gain, best gain: -inf\n",
      "[LightGBM] [Warning] No further splits with positive gain, best gain: -inf\n",
      "[LightGBM] [Warning] No further splits with positive gain, best gain: -inf\n",
      "[LightGBM] [Warning] No further splits with positive gain, best gain: -inf\n",
      "[LightGBM] [Warning] No further splits with positive gain, best gain: -inf\n",
      "[LightGBM] [Warning] No further splits with positive gain, best gain: -inf\n",
      "[LightGBM] [Warning] No further splits with positive gain, best gain: -inf\n",
      "[LightGBM] [Warning] No further splits with positive gain, best gain: -inf\n",
      "[LightGBM] [Warning] No further splits with positive gain, best gain: -inf\n",
      "[LightGBM] [Warning] No further splits with positive gain, best gain: -inf\n",
      "[LightGBM] [Warning] No further splits with positive gain, best gain: -inf\n",
      "[LightGBM] [Warning] No further splits with positive gain, best gain: -inf\n",
      "[LightGBM] [Warning] No further splits with positive gain, best gain: -inf\n",
      "[LightGBM] [Warning] No further splits with positive gain, best gain: -inf\n",
      "[LightGBM] [Warning] No further splits with positive gain, best gain: -inf\n",
      "[LightGBM] [Warning] No further splits with positive gain, best gain: -inf\n",
      "[LightGBM] [Warning] No further splits with positive gain, best gain: -inf\n",
      "[LightGBM] [Warning] No further splits with positive gain, best gain: -inf\n",
      "[LightGBM] [Warning] No further splits with positive gain, best gain: -inf\n",
      "[LightGBM] [Warning] No further splits with positive gain, best gain: -inf\n",
      "[LightGBM] [Warning] No further splits with positive gain, best gain: -inf\n",
      "[LightGBM] [Warning] No further splits with positive gain, best gain: -inf\n",
      "[LightGBM] [Warning] No further splits with positive gain, best gain: -inf\n",
      "[LightGBM] [Warning] No further splits with positive gain, best gain: -inf\n",
      "[LightGBM] [Warning] No further splits with positive gain, best gain: -inf\n",
      "[LightGBM] [Warning] No further splits with positive gain, best gain: -inf\n",
      "[LightGBM] [Warning] No further splits with positive gain, best gain: -inf\n",
      "[LightGBM] [Warning] No further splits with positive gain, best gain: -inf\n",
      "[LightGBM] [Warning] No further splits with positive gain, best gain: -inf\n",
      "Số lượng cây sau lần fit 1: 50\n",
      "[LightGBM] [Info] Number of positive: 250, number of negative: 250\n",
      "[LightGBM] [Info] Auto-choosing col-wise multi-threading, the overhead of testing was 0.000259 seconds.\n",
      "You can set `force_col_wise=true` to remove the overhead.\n",
      "[LightGBM] [Info] Total Bins 3340\n",
      "[LightGBM] [Info] Number of data points in the train set: 500, number of used features: 20\n",
      "[LightGBM] [Warning] No further splits with positive gain, best gain: -inf\n",
      "[LightGBM] [Warning] No further splits with positive gain, best gain: -inf\n",
      "[LightGBM] [Warning] No further splits with positive gain, best gain: -inf\n",
      "[LightGBM] [Warning] No further splits with positive gain, best gain: -inf\n",
      "[LightGBM] [Warning] No further splits with positive gain, best gain: -inf\n",
      "[LightGBM] [Warning] No further splits with positive gain, best gain: -inf\n",
      "[LightGBM] [Warning] No further splits with positive gain, best gain: -inf\n",
      "[LightGBM] [Warning] No further splits with positive gain, best gain: -inf\n",
      "[LightGBM] [Warning] No further splits with positive gain, best gain: -inf\n",
      "[LightGBM] [Warning] No further splits with positive gain, best gain: -inf\n",
      "[LightGBM] [Warning] No further splits with positive gain, best gain: -inf\n",
      "[LightGBM] [Warning] No further splits with positive gain, best gain: -inf\n",
      "[LightGBM] [Warning] No further splits with positive gain, best gain: -inf\n",
      "[LightGBM] [Warning] No further splits with positive gain, best gain: -inf\n",
      "[LightGBM] [Warning] No further splits with positive gain, best gain: -inf\n",
      "[LightGBM] [Warning] No further splits with positive gain, best gain: -inf\n",
      "[LightGBM] [Warning] No further splits with positive gain, best gain: -inf\n",
      "[LightGBM] [Warning] No further splits with positive gain, best gain: -inf\n",
      "[LightGBM] [Warning] No further splits with positive gain, best gain: -inf\n",
      "[LightGBM] [Warning] No further splits with positive gain, best gain: -inf\n",
      "[LightGBM] [Warning] No further splits with positive gain, best gain: -inf\n",
      "[LightGBM] [Warning] No further splits with positive gain, best gain: -inf\n",
      "[LightGBM] [Warning] No further splits with positive gain, best gain: -inf\n",
      "[LightGBM] [Warning] No further splits with positive gain, best gain: -inf\n",
      "[LightGBM] [Warning] No further splits with positive gain, best gain: -inf\n",
      "[LightGBM] [Warning] No further splits with positive gain, best gain: -inf\n",
      "[LightGBM] [Warning] No further splits with positive gain, best gain: -inf\n",
      "[LightGBM] [Warning] No further splits with positive gain, best gain: -inf\n",
      "[LightGBM] [Warning] No further splits with positive gain, best gain: -inf\n",
      "[LightGBM] [Warning] No further splits with positive gain, best gain: -inf\n",
      "[LightGBM] [Warning] No further splits with positive gain, best gain: -inf\n",
      "[LightGBM] [Warning] No further splits with positive gain, best gain: -inf\n",
      "[LightGBM] [Warning] No further splits with positive gain, best gain: -inf\n",
      "[LightGBM] [Warning] No further splits with positive gain, best gain: -inf\n",
      "[LightGBM] [Warning] No further splits with positive gain, best gain: -inf\n",
      "[LightGBM] [Warning] No further splits with positive gain, best gain: -inf\n",
      "[LightGBM] [Warning] No further splits with positive gain, best gain: -inf\n",
      "[LightGBM] [Warning] No further splits with positive gain, best gain: -inf\n",
      "[LightGBM] [Warning] No further splits with positive gain, best gain: -inf\n",
      "[LightGBM] [Warning] No further splits with positive gain, best gain: -inf\n",
      "[LightGBM] [Warning] No further splits with positive gain, best gain: -inf\n",
      "[LightGBM] [Warning] No further splits with positive gain, best gain: -inf\n",
      "[LightGBM] [Warning] No further splits with positive gain, best gain: -inf\n",
      "[LightGBM] [Warning] No further splits with positive gain, best gain: -inf\n",
      "[LightGBM] [Warning] No further splits with positive gain, best gain: -inf\n",
      "[LightGBM] [Warning] No further splits with positive gain, best gain: -inf\n",
      "[LightGBM] [Warning] No further splits with positive gain, best gain: -inf\n",
      "[LightGBM] [Warning] No further splits with positive gain, best gain: -inf\n",
      "[LightGBM] [Warning] No further splits with positive gain, best gain: -inf\n",
      "[LightGBM] [Warning] No further splits with positive gain, best gain: -inf\n",
      "Số lượng cây sau lần fit 2: 100\n"
     ]
    }
   ],
   "source": [
    "from lightgbm import LGBMClassifier\n",
    "from sklearn.datasets import make_classification\n",
    "from sklearn.model_selection import train_test_split\n",
    "\n",
    "# 1. Tạo dữ liệu giả\n",
    "X, y = make_classification(n_samples=1000, n_features=20, random_state=42)\n",
    "X1, X2, y1, y2 = train_test_split(X, y, test_size=0.5, random_state=42)\n",
    "\n",
    "# 2. Train lần đầu\n",
    "model = LGBMClassifier(n_estimators=50, learning_rate=0.1, max_depth=3, random_state=42)\n",
    "model.fit(X1, y1)\n",
    "\n",
    "# 3. In số cây hiện tại\n",
    "print(\"Số lượng cây sau lần fit 1:\", model.booster_.num_trees())\n",
    "\n",
    "# 4. Train tiếp trên dữ liệu mới, dùng init_model\n",
    "model.fit(X2, y2, init_model=model.booster_)\n",
    "\n",
    "# 5. In số cây sau khi train tiếp\n",
    "print(\"Số lượng cây sau lần fit 2:\", model.booster_.num_trees())\n"
   ]
  },
  {
   "cell_type": "code",
   "execution_count": null,
   "id": "046102a7",
   "metadata": {},
   "outputs": [
    {
     "name": "stdout",
     "output_type": "stream",
     "text": [
      "Xác suất dự đoán cho các lớp:\n",
      "[[3.78468964e-03 8.27220592e-01 1.68994718e-01]\n",
      " [9.46738570e-01 5.32612296e-02 2.00200608e-07]\n",
      " [8.73019002e-09 1.55846967e-03 9.98441522e-01]\n",
      " [6.43338014e-03 7.92106296e-01 2.01460324e-01]\n",
      " [1.44094299e-03 7.74350518e-01 2.24208539e-01]\n",
      " [9.55783509e-01 4.42163143e-02 1.77062516e-07]\n",
      " [7.76129022e-02 9.08072540e-01 1.43145575e-02]\n",
      " [1.61393845e-04 1.55689752e-01 8.44148855e-01]\n",
      " [2.20749609e-03 7.62773187e-01 2.35019317e-01]\n",
      " [2.83156446e-02 9.45786638e-01 2.58977173e-02]\n",
      " [4.39625408e-04 2.43308395e-01 7.56251980e-01]\n",
      " [9.68317751e-01 3.16821713e-02 7.81652986e-08]\n",
      " [9.72944229e-01 2.70557379e-02 3.33763996e-08]\n",
      " [9.62107119e-01 3.78927703e-02 1.11058752e-07]\n",
      " [9.79275316e-01 2.07246192e-02 6.48256053e-08]\n",
      " [4.54171482e-03 7.12618594e-01 2.82839692e-01]\n",
      " [7.22701932e-06 2.42151312e-02 9.75777642e-01]\n",
      " [2.73295948e-02 9.47681419e-01 2.49889859e-02]\n",
      " [8.23128520e-03 8.31111653e-01 1.60657062e-01]\n",
      " [1.41955163e-05 3.59520213e-02 9.64033783e-01]\n",
      " [9.64376514e-01 3.56232929e-02 1.93113399e-07]\n",
      " [1.31358966e-03 3.99111988e-01 5.99574422e-01]\n",
      " [9.61636126e-01 3.83636127e-02 2.61494805e-07]\n",
      " [1.85440731e-05 4.58785611e-02 9.54102895e-01]\n",
      " [1.63852781e-06 2.58898526e-02 9.74108509e-01]\n",
      " [9.32528928e-05 1.05071490e-01 8.94835257e-01]\n",
      " [8.69151084e-06 5.83770015e-02 9.41614307e-01]\n",
      " [4.29983828e-06 1.88618550e-02 9.81133845e-01]\n",
      " [9.66849312e-01 3.31505519e-02 1.35974305e-07]\n",
      " [9.56314433e-01 4.36853345e-02 2.32709474e-07]]\n"
     ]
    },
    {
     "data": {
      "text/plain": [
       "(30, 3)"
      ]
     },
     "execution_count": 4,
     "metadata": {},
     "output_type": "execute_result"
    }
   ],
   "source": [
    "from xgboost import XGBClassifier\n",
    "\n",
    "# Chia ra chạy cho đỡ RAM\n",
    "X1, X2, y1, y2 = train_test_split(X, y, test_size=0.5)\n",
    "\n",
    "# Train lần đầu\n",
    "model = XGBClassifier(n_estimators=50)\n",
    "model.fit(X1, y1)\n",
    "\n",
    "model.fit(X2, y2, xgb_model=model.get_booster())"
   ]
  },
  {
   "cell_type": "code",
   "execution_count": 3,
   "id": "518e9572",
   "metadata": {},
   "outputs": [
    {
     "data": {
      "text/plain": [
       "['d']"
      ]
     },
     "execution_count": 3,
     "metadata": {},
     "output_type": "execute_result"
    }
   ],
   "source": [
    "a = ['a', 'b', 'c', 'd']\n",
    "\n",
    "a = a[3:10]\n",
    "\n",
    "a"
   ]
  },
  {
   "cell_type": "markdown",
   "id": "4e5025b8",
   "metadata": {},
   "source": [
    "Index(['index', 'wind_kph_num', 'wind_degree_num', 'pressure_in_num',\n",
    "       'humidity_num', 'cloud_num', 'visibility_km_num', 'uv_index_num',\n",
    "       'gust_kph_num', 'air_quality_Carbon_Monoxide_num',\n",
    "       'air_quality_Ozone_num', 'air_quality_Nitrogen_dioxide_num',\n",
    "       'air_quality_Sulphur_dioxide_num', 'air_quality_PM2_5_num',\n",
    "       'air_quality_PM10_num', 'moon_illumination_num', 'moon_phase_nom',\n",
    "       'sunrise_ord', 'sunset_ord', 'moonrise_ord', 'moonset_ord',\n",
    "       'temp_bin_target'],\n",
    "      dtype='object')"
   ]
  },
  {
   "cell_type": "markdown",
   "id": "175d4ab6",
   "metadata": {},
   "source": [
    "cột wind_kph_num bị lệch trên \n",
    "\n",
    "cột wind_degree_num đều \n",
    "\n",
    "cột pressure_in_num bị lệch trên \n",
    "\n",
    "cột humidity_num đều \n",
    "\n",
    "cột cloud_num đều \n",
    "\n",
    "cột visibility_km_num bị lệch 2 bên \n",
    "\n",
    "cột uv_index_num đều \n",
    "\n",
    "cột gust_kph_num bị lệch trên \n",
    "\n",
    "cột air_quality_Carbon_Monoxide_num  bị lệch trên \n",
    "\n",
    "cột air_quality_Ozone_num bị lệch trên \n",
    "\n",
    "cột air_quality_Nitrogen_dioxide_num  bị lệch trên \n",
    "\n",
    "cột air_quality_Sulphur_dioxide_num bị lệch trên \n",
    "\n",
    "cột air_quality_PM2_5_num bị lệch trên \n",
    "\n",
    "cột air_quality_PM10_num bị lệch trên\n",
    "\n",
    "cột moon_illumination_num đều "
   ]
  },
  {
   "cell_type": "code",
   "execution_count": null,
   "id": "08ce7987",
   "metadata": {},
   "outputs": [
    {
     "name": "stdout",
     "output_type": "stream",
     "text": [
      "Hello ban nhieu nha\n"
     ]
    }
   ],
   "source": [
    "import pandas as pd \n",
    "\n",
    "a = pd.Series(['a', 'b', 'c', ''])"
   ]
  },
  {
   "cell_type": "code",
   "execution_count": 5,
   "id": "40cd1909",
   "metadata": {},
   "outputs": [
    {
     "data": {
      "text/plain": [
       "0    d\n",
       "1    b\n",
       "2    c\n",
       "3    d\n",
       "dtype: object"
      ]
     },
     "execution_count": 5,
     "metadata": {},
     "output_type": "execute_result"
    }
   ],
   "source": [
    "import pandas as pd\n",
    "\n",
    "a = pd.Series(['a', 'b', 'c', 'a'])\n",
    "\n",
    "a = a.replace({\n",
    "    \"a\": \"d\"\n",
    "})\n",
    "\n",
    "a"
   ]
  },
  {
   "cell_type": "markdown",
   "id": "61586248",
   "metadata": {},
   "source": [
    "| Cot                       | Y nghia                                                               | Don vi | Phan loai |\n",
    "| ------------------------- | --------------------------------------------------------------------- | ------ | --------- |\n",
    "| wind_kph         | Tốc độ gió (km / hour)      | none   | numeric   |\n",
    "| wind_degree        | Hướng gió theo độ    | none   | numeric   |\n",
    "| pressure_in         | Áp suất (inches)    | none   | numeric   |\n",
    "| humidity         | Độ ẩm (%)    | none   | numeric   |\n",
    "| cloud         | Phần trăm mây bao phủ (%)    | none   | numeric   |\n",
    "| visibility_km         | Tầm nhìn (km)    | none   | numeric   |\n",
    "| uv_index         | Chỉ số tia UV    | none   | numeric   |\n",
    "| gust_kph         | sự tăng tốc đột ngột và mạnh mẽ của gió (km / h)    | none   | numeric   |\n",
    "| air_quality_Carbon_Monoxide         | Nồng độ $CO$    | none   | numeric   |\n",
    "| air_quality_Ozone         | Nồng độ $O_3$    | none   | numeric   |\n",
    "| air_quality_Nitrogen_dioxide         | Nồng độ $NO_2$    | none   | numeric   |\n",
    "| air_quality_Sulphur_dioxide         | Nồng độ $SO_2$    | none   | numeric   |\n",
    "| air_quality_PM2.5         | Nồng độ $PM2.5$    | none   | numeric   |\n",
    "| air_quality_PM10         | Nồng độ $PM10$    | none   | numeric   |\n",
    "| sunrise         | Thời điểm mặt trời lên   | none   | ordinal   |\n",
    "| sunset         | Thời điểm mặt trời lặn   | none   | ordinal   |\n",
    "| moonrise         | Thời điểm trăng lên   | none   | ordinal   |\n",
    "| moonset         | Thời điểm trăng lặn   | none   | ordinal   |\n",
    "| moon_phase         | Pha của mặt trăng   | none   | nominal   |\n",
    "| moon_illumination         | Độ sáng của mặt trăng (%)   | none   | numeric |\n"
   ]
  },
  {
   "cell_type": "code",
   "execution_count": 24,
   "id": "ae914301",
   "metadata": {},
   "outputs": [
    {
     "data": {
      "text/plain": [
       "[array(['b', 'c', 'daaa'], dtype=object)]"
      ]
     },
     "execution_count": 24,
     "metadata": {},
     "output_type": "execute_result"
    }
   ],
   "source": [
    "import pandas as pd \n",
    "from sklearn.preprocessing import OrdinalEncoder\n",
    "from sklearn.compose import ColumnTransformer\n",
    "\n",
    "\n",
    "a = pd.DataFrame(data={\n",
    "    'a': ['b', 'b', 'c', 'daaa', 'b'],\n",
    "    'b': ['01', '02', '03', '04', '01'],\n",
    "    'c': [1,2,3,4,5]\n",
    "})\n",
    "\n",
    "encoder = OrdinalEncoder()\n",
    "b = encoder.fit_transform(a[['a']])\n",
    "encoder.categories_"
   ]
  },
  {
   "cell_type": "code",
   "execution_count": 25,
   "id": "efba345c",
   "metadata": {},
   "outputs": [
    {
     "data": {
      "text/plain": [
       "'FEATURE_ORDINAL_DICT'"
      ]
     },
     "execution_count": 25,
     "metadata": {},
     "output_type": "execute_result"
    }
   ],
   "source": [
    "\"feature_ordinal_dict\".upper()"
   ]
  },
  {
   "cell_type": "code",
   "execution_count": 1,
   "id": "1c533e8e",
   "metadata": {},
   "outputs": [
    {
     "data": {
      "text/plain": [
       "'FEATURE_ORDINAL_DICT'"
      ]
     },
     "execution_count": 1,
     "metadata": {},
     "output_type": "execute_result"
    }
   ],
   "source": [
    "\"feature_ordinal_dict\".upper()\n"
   ]
  },
  {
   "cell_type": "code",
   "execution_count": 3,
   "id": "6ccc56e3",
   "metadata": {},
   "outputs": [
    {
     "data": {
      "text/plain": [
       "[]"
      ]
     },
     "execution_count": 3,
     "metadata": {},
     "output_type": "execute_result"
    }
   ],
   "source": [
    "a = {\n",
    "\n",
    "}\n",
    "\n",
    "a = list(a.keys())\n",
    "\n",
    "a"
   ]
  }
 ],
 "metadata": {
  "kernelspec": {
   "display_name": "Python 3",
   "language": "python",
   "name": "python3"
  },
  "language_info": {
   "codemirror_mode": {
    "name": "ipython",
    "version": 3
   },
   "file_extension": ".py",
   "mimetype": "text/x-python",
   "name": "python",
   "nbconvert_exporter": "python",
   "pygments_lexer": "ipython3",
   "version": "3.10.0"
  }
 },
 "nbformat": 4,
 "nbformat_minor": 5
}
